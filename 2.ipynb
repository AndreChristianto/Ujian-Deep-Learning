{
 "cells": [
  {
   "cell_type": "code",
   "execution_count": 6,
   "metadata": {},
   "outputs": [],
   "source": [
    "import tensorflow as tf\n",
    "import numpy as np\n",
    "from tensorflow.keras.layers import LSTM, Embedding, Dense\n",
    "from tensorflow.keras.models import Sequential\n",
    "from tensorflow.keras.preprocessing.text import Tokenizer\n",
    "from tensorflow.keras.preprocessing.sequence import pad_sequences\n"
   ]
  },
  {
   "cell_type": "code",
   "execution_count": 7,
   "metadata": {},
   "outputs": [],
   "source": [
    "# Sample text data for sentiment analysis\n",
    "texts = ['I like cookies!',\n",
    "         'I hate veggies.',\n",
    "         'I love potatoes.',\n",
    "         'I do not like carrots.']\n",
    "\n",
    "labels = [1, 0, 1, 0]  # 1 for positive sentiment, 0 for negative sentiment\n",
    "labels = np.array(labels)"
   ]
  },
  {
   "cell_type": "code",
   "execution_count": 8,
   "metadata": {},
   "outputs": [],
   "source": [
    "# Tokenize the text data\n",
    "tokenizer = Tokenizer()\n",
    "tokenizer.fit_on_texts(texts)\n",
    "sequences = tokenizer.texts_to_sequences(texts)\n",
    "\n",
    "# Pad sequences to ensure uniform length\n",
    "max_seq_length = max(len(seq) for seq in sequences)\n",
    "padded_sequences = pad_sequences(sequences, maxlen=max_seq_length, padding='post')"
   ]
  },
  {
   "cell_type": "markdown",
   "metadata": {},
   "source": [
    "### Embedding Layer"
   ]
  },
  {
   "cell_type": "code",
   "execution_count": 9,
   "metadata": {},
   "outputs": [],
   "source": [
    "# Define LSTM model with embedding layer\n",
    "model = Sequential()\n",
    "model.add(Embedding(input_dim=len(tokenizer.word_index) + 1,  # Vocabulary size (total of unique words in corpus)\n",
    "                    output_dim=100,  # Dimensionality of the dense embedding (higher dimensions could mean capturing more features / intricate relationships)\n",
    "                    input_length=max_seq_length))   # Max length so the lesser lengths can get padded properly\n",
    "model.add(LSTM(units=64))  # LSTM layer with 64 units\n",
    "model.add(Dense(units=1, activation='sigmoid'))  # Output layer for binary classification\n",
    "\n",
    "# Compile the model\n",
    "model.compile(optimizer='adam', loss='binary_crossentropy', metrics=['accuracy'])"
   ]
  },
  {
   "cell_type": "code",
   "execution_count": 10,
   "metadata": {},
   "outputs": [
    {
     "name": "stdout",
     "output_type": "stream",
     "text": [
      "Epoch 1/10\n",
      "WARNING:tensorflow:From C:\\Users\\Andreas Christianto\\AppData\\Roaming\\Python\\Python311\\site-packages\\keras\\src\\utils\\tf_utils.py:492: The name tf.ragged.RaggedTensorValue is deprecated. Please use tf.compat.v1.ragged.RaggedTensorValue instead.\n",
      "\n",
      "WARNING:tensorflow:From C:\\Users\\Andreas Christianto\\AppData\\Roaming\\Python\\Python311\\site-packages\\keras\\src\\engine\\base_layer_utils.py:384: The name tf.executing_eagerly_outside_functions is deprecated. Please use tf.compat.v1.executing_eagerly_outside_functions instead.\n",
      "\n",
      "2/2 [==============================] - 6s 30ms/step - loss: 0.6951 - accuracy: 0.2500\n",
      "Epoch 2/10\n",
      "2/2 [==============================] - 0s 16ms/step - loss: 0.6897 - accuracy: 0.7500\n",
      "Epoch 3/10\n",
      "2/2 [==============================] - 0s 46ms/step - loss: 0.6818 - accuracy: 0.7500\n",
      "Epoch 4/10\n",
      "2/2 [==============================] - 0s 21ms/step - loss: 0.6760 - accuracy: 0.7500\n",
      "Epoch 5/10\n",
      "2/2 [==============================] - 0s 20ms/step - loss: 0.6711 - accuracy: 0.7500\n",
      "Epoch 6/10\n",
      "2/2 [==============================] - 0s 24ms/step - loss: 0.6648 - accuracy: 0.7500\n",
      "Epoch 7/10\n",
      "2/2 [==============================] - 0s 21ms/step - loss: 0.6570 - accuracy: 0.7500\n",
      "Epoch 8/10\n",
      "2/2 [==============================] - 0s 21ms/step - loss: 0.6479 - accuracy: 0.7500\n",
      "Epoch 9/10\n",
      "2/2 [==============================] - 0s 14ms/step - loss: 0.6376 - accuracy: 0.7500\n",
      "Epoch 10/10\n",
      "2/2 [==============================] - 0s 19ms/step - loss: 0.6256 - accuracy: 0.7500\n"
     ]
    },
    {
     "data": {
      "text/plain": [
       "<keras.src.callbacks.History at 0x21804550990>"
      ]
     },
     "execution_count": 10,
     "metadata": {},
     "output_type": "execute_result"
    }
   ],
   "source": [
    "# Train the model\n",
    "model.fit(padded_sequences, labels, epochs=10, batch_size=2)"
   ]
  },
  {
   "cell_type": "code",
   "execution_count": 11,
   "metadata": {},
   "outputs": [
    {
     "name": "stdout",
     "output_type": "stream",
     "text": [
      "1/1 [==============================] - 2s 2s/step - loss: 0.6142 - accuracy: 0.7500\n",
      "Test Loss: 0.6142463684082031\n",
      "Test Accuracy: 0.75\n"
     ]
    }
   ],
   "source": [
    "# Evaluate the model\n",
    "loss, accuracy = model.evaluate(padded_sequences, labels)\n",
    "print(f\"Test Loss: {loss}\")\n",
    "print(f\"Test Accuracy: {accuracy}\")"
   ]
  }
 ],
 "metadata": {
  "kernelspec": {
   "display_name": "Python 3",
   "language": "python",
   "name": "python3"
  },
  "language_info": {
   "codemirror_mode": {
    "name": "ipython",
    "version": 3
   },
   "file_extension": ".py",
   "mimetype": "text/x-python",
   "name": "python",
   "nbconvert_exporter": "python",
   "pygments_lexer": "ipython3",
   "version": "3.11.1"
  }
 },
 "nbformat": 4,
 "nbformat_minor": 2
}
